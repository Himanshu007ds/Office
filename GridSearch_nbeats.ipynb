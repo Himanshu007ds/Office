{
 "cells": [
  {
   "cell_type": "code",
   "execution_count": 1,
   "metadata": {},
   "outputs": [],
   "source": [
    "import pandas as pd\n",
    "import numpy as np\n",
    "import matplotlib.pyplot as plt\n",
    "import seaborn as sns\n",
    "from sklearn.metrics import mean_squared_error\n",
    "from sklearn.metrics import r2_score\n",
    "import warnings\n",
    "warnings.filterwarnings('ignore')"
   ]
  },
  {
   "cell_type": "code",
   "execution_count": 2,
   "metadata": {},
   "outputs": [],
   "source": [
    "def mape_score(y_test, pred):\n",
    "    y_test, pred = np.array(y_test), np.array(pred)\n",
    "    mape = np.mean(np.abs((y_test - pred) / y_test)) * 100\n",
    "    return mape"
   ]
  },
  {
   "cell_type": "code",
   "execution_count": 3,
   "metadata": {},
   "outputs": [],
   "source": [
    "def metrics(test, pred):\n",
    "    d= {}\n",
    "    mse = mean_squared_error(test, pred)\n",
    "    rmse = np.sqrt(mse)\n",
    "    # r_squared = r2_score(test, pred)\n",
    "    mape= mape_score(test, pred)\n",
    "\n",
    "    d['MSE'] = mse\n",
    "    d['RMSE'] = rmse\n",
    "    # d['R-squared'] = r_squared\n",
    "    d['MAPE'] = mape\n",
    "    \n",
    "    return d"
   ]
  },
  {
   "cell_type": "code",
   "execution_count": null,
   "metadata": {},
   "outputs": [],
   "source": [
    "import darts\n",
    "from darts import TimeSeries\n",
    "from darts.models import NBEATSModel\n",
    "from darts.dataprocessing.transformers import Scaler, MissingValuesFiller\n",
    "from darts.metrics import mape as mape_darts, r2_score\n",
    "from darts.datasets import AirPassengersDataset"
   ]
  },
  {
   "cell_type": "code",
   "execution_count": null,
   "metadata": {},
   "outputs": [],
   "source": [
    "path = r'C:\\Users\\himanshu.verma\\vs_code\\POC_MGC\\Code\\nbeats_data_pakshal.csv'\n",
    "df = pd.read_csv(path)\n",
    "\n",
    "data_nbeats_new = df.copy()\n",
    "data_nbeats_new = pd.DataFrame(data_nbeats_new)\n",
    "data_nbeats_new = data_nbeats_new.reset_index()\n",
    "\n",
    "# Create a TimeSeries, specifying the time and value columns\n",
    "series_new = TimeSeries.from_dataframe(data_nbeats_new, 'DATE', 'GROSS_PROFIT_ACT')\n",
    "series_new"
   ]
  },
  {
   "cell_type": "code",
   "execution_count": null,
   "metadata": {},
   "outputs": [],
   "source": [
    "print(len(series_new))\n",
    "train_nbeats_new, val_nbeats_new = series_new.split_after(pd.Timestamp(\"20220930\"))\n",
    "print(len(train_nbeats_new))\n",
    "print(len(val_nbeats_new))"
   ]
  },
  {
   "cell_type": "code",
   "execution_count": null,
   "metadata": {},
   "outputs": [],
   "source": [
    "model_nbeats_new = NBEATSModel(\n",
    "    input_chunk_length= 1,\n",
    "    output_chunk_length=1,\n",
    "    generic_architecture=True,\n",
    "    num_stacks=20,\n",
    "    num_blocks=20,\n",
    "    num_layers=20,\n",
    "    layer_widths=20,\n",
    "    n_epochs=20,\n",
    "    batch_size=2,\n",
    "    model_name=\"nbeats_run\",\n",
    ")\n",
    "\n",
    "model_nbeats_new.fit(series= train_nbeats_new)"
   ]
  },
  {
   "cell_type": "code",
   "execution_count": null,
   "metadata": {},
   "outputs": [],
   "source": [
    "ts_tpred_new = model_nbeats_new.predict(n= 3,  \n",
    "\t                        # past_covariates=cov_t,\n",
    "\t                        num_samples= 1,   \n",
    "\t                        n_jobs= -1, \n",
    "\t                        verbose=True)"
   ]
  },
  {
   "cell_type": "code",
   "execution_count": null,
   "metadata": {},
   "outputs": [],
   "source": [
    "param_grid = {\n",
    "    'n_stacks': [3, 4, 5],\n",
    "    'stack_widths': [256, 512, 1024],\n",
    "    'learning_rate': [0.001, 0.01, 0.1],\n",
    "    # Add other hyperparameters here\n",
    "}\n",
    "\n",
    "from sklearn.model_selection import GridSearchCV\n",
    "\n",
    "grid_search = GridSearchCV(estimator=your_nbeats_model,\n",
    "                           param_grid=param_grid,\n",
    "                           cv=tscv,\n",
    "                           scoring='neg_mean_squared_error',\n",
    "                           n_jobs=-1)  # Use parallel processing if available\n",
    "\n",
    "grid_search.fit(X, y)  # X and y are your time series data and target\n",
    "\n",
    "best_params = grid_search.best_params_\n",
    "best_model = grid_search.best_estimator_"
   ]
  }
 ],
 "metadata": {
  "kernelspec": {
   "display_name": "time_env",
   "language": "python",
   "name": "python3"
  },
  "language_info": {
   "codemirror_mode": {
    "name": "ipython",
    "version": 3
   },
   "file_extension": ".py",
   "mimetype": "text/x-python",
   "name": "python",
   "nbconvert_exporter": "python",
   "pygments_lexer": "ipython3",
   "version": "3.11.5"
  }
 },
 "nbformat": 4,
 "nbformat_minor": 2
}
